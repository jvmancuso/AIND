{
 "cells": [
  {
   "cell_type": "markdown",
   "metadata": {},
   "source": [
    "# Analyzing IMDB Data in Keras"
   ]
  },
  {
   "cell_type": "code",
   "execution_count": 1,
   "metadata": {},
   "outputs": [
    {
     "name": "stderr",
     "output_type": "stream",
     "text": [
      "Using TensorFlow backend.\n"
     ]
    }
   ],
   "source": [
    "# Imports\n",
    "import numpy as np\n",
    "from keras_helpers import AlphaDropout, selu, lecun_normal\n",
    "import keras\n",
    "from keras.engine import Layer\n",
    "from keras.datasets import imdb\n",
    "from keras.models import Sequential, Model\n",
    "from keras.layers import Dense, Activation, Input\n",
    "from keras.optimizers import SGD\n",
    "from keras.preprocessing.text import Tokenizer\n",
    "from keras.callbacks import EarlyStopping\n",
    "import matplotlib.pyplot as plt\n",
    "%matplotlib inline\n",
    "\n",
    "np.random.seed(42)"
   ]
  },
  {
   "cell_type": "markdown",
   "metadata": {},
   "source": [
    "## 1. Loading the data\n",
    "This dataset comes preloaded with Keras, so one simple command will get us training and testing data. There is a parameter for how many words we want to look at. We've set it at 1000, but feel free to experiment."
   ]
  },
  {
   "cell_type": "code",
   "execution_count": 2,
   "metadata": {},
   "outputs": [
    {
     "name": "stdout",
     "output_type": "stream",
     "text": [
      "(25000,)\n",
      "(25000,)\n"
     ]
    }
   ],
   "source": [
    "# Loading the data (it's preloaded in Keras)\n",
    "(x_train, y_train), (x_test, y_test) = imdb.load_data(num_words=2500)\n",
    "\n",
    "print(x_train.shape)\n",
    "print(x_test.shape)"
   ]
  },
  {
   "cell_type": "markdown",
   "metadata": {},
   "source": [
    "## 2. Examining the data\n",
    "Notice that the data has been already pre-processed, where all the words have numbers, and the reviews come in as a vector with the words that the review contains. For example, if the word 'the' is the first one in our dictionary, and a review contains the word 'the', then there is a 1 in the corresponding vector.\n",
    "\n",
    "The output comes as a vector of 1's and 0's, where 1 is a positive sentiment for the review, and 0 is negative."
   ]
  },
  {
   "cell_type": "code",
   "execution_count": 3,
   "metadata": {},
   "outputs": [
    {
     "name": "stdout",
     "output_type": "stream",
     "text": [
      "[1, 14, 22, 16, 43, 530, 973, 1622, 1385, 65, 458, 2, 66, 2, 4, 173, 36, 256, 5, 25, 100, 43, 838, 112, 50, 670, 2, 9, 35, 480, 284, 5, 150, 4, 172, 112, 167, 2, 336, 385, 39, 4, 172, 2, 1111, 17, 546, 38, 13, 447, 4, 192, 50, 16, 6, 147, 2025, 19, 14, 22, 4, 1920, 2, 469, 4, 22, 71, 87, 12, 16, 43, 530, 38, 76, 15, 13, 1247, 4, 22, 17, 515, 17, 12, 16, 626, 18, 2, 5, 62, 386, 12, 8, 316, 8, 106, 5, 4, 2223, 2, 16, 480, 66, 2, 33, 4, 130, 12, 16, 38, 619, 5, 25, 124, 51, 36, 135, 48, 25, 1415, 33, 6, 22, 12, 215, 28, 77, 52, 5, 14, 407, 16, 82, 2, 8, 4, 107, 117, 2, 15, 256, 4, 2, 7, 2, 5, 723, 36, 71, 43, 530, 476, 26, 400, 317, 46, 7, 4, 2, 1029, 13, 104, 88, 4, 381, 15, 297, 98, 32, 2071, 56, 26, 141, 6, 194, 2, 18, 4, 226, 22, 21, 134, 476, 26, 480, 5, 144, 30, 2, 18, 51, 36, 28, 224, 92, 25, 104, 4, 226, 65, 16, 38, 1334, 88, 12, 16, 283, 5, 16, 2, 113, 103, 32, 15, 16, 2, 19, 178, 32]\n",
      "1\n"
     ]
    }
   ],
   "source": [
    "print(x_train[0])\n",
    "print(y_train[0])"
   ]
  },
  {
   "cell_type": "markdown",
   "metadata": {},
   "source": [
    "## 3. One-hot encoding the output\n",
    "Here, we'll turn the input vectors into (0,1)-vectors. For example, if the pre-processed vector contains the number 14, then in the processed vector, the 14th entry will be 1."
   ]
  },
  {
   "cell_type": "code",
   "execution_count": 4,
   "metadata": {},
   "outputs": [
    {
     "name": "stdout",
     "output_type": "stream",
     "text": [
      "[ 0.  1.  1. ...,  0.  0.  0.]\n"
     ]
    }
   ],
   "source": [
    "# One-hot encoding the output into vector mode, each of length 1000\n",
    "tokenizer = Tokenizer(num_words=2500)\n",
    "x_train = tokenizer.sequences_to_matrix(x_train, mode='binary')\n",
    "x_test = tokenizer.sequences_to_matrix(x_test, mode='binary')\n",
    "print(x_train[0])"
   ]
  },
  {
   "cell_type": "markdown",
   "metadata": {},
   "source": [
    "And we'll also one-hot encode the output."
   ]
  },
  {
   "cell_type": "code",
   "execution_count": 5,
   "metadata": {},
   "outputs": [
    {
     "name": "stdout",
     "output_type": "stream",
     "text": [
      "(25000, 2)\n",
      "(25000, 2)\n"
     ]
    }
   ],
   "source": [
    "# One-hot encoding the output\n",
    "num_classes = 2\n",
    "y_train = keras.utils.to_categorical(y_train, num_classes)\n",
    "y_test = keras.utils.to_categorical(y_test, num_classes)\n",
    "print(y_train.shape)\n",
    "print(y_test.shape)"
   ]
  },
  {
   "cell_type": "markdown",
   "metadata": {},
   "source": [
    "## 4. Building the  model architecture\n",
    "Build a model here using sequential. Feel free to experiment with different layers and sizes! Also, experiment adding dropout to reduce overfitting."
   ]
  },
  {
   "cell_type": "code",
   "execution_count": 19,
   "metadata": {
    "collapsed": true
   },
   "outputs": [],
   "source": [
    "# TODO: Build the model architecture\n",
    "inputs = Input(shape=(2500,))\n",
    "x = Dense(4096, kernel_initializer=lecun_normal(seed=42))(inputs)\n",
    "x = Activation(selu)(x)\n",
    "x = AlphaDropout(0.1)(x)\n",
    "x = Dense(2048, kernel_initializer=lecun_normal(seed=42))(x)\n",
    "x = Activation(selu)(x)\n",
    "x = AlphaDropout(0.1)(x)\n",
    "x = Dense(1024, kernel_initializer=lecun_normal(seed=42))(x)\n",
    "x = Activation(selu)(x)\n",
    "x = AlphaDropout(0.1)(x)\n",
    "x = Dense(512, kernel_initializer=lecun_normal(seed=42))(x)\n",
    "x = Activation(selu)(x)\n",
    "x = AlphaDropout(0.1)(x)\n",
    "x = Dense(512, kernel_initializer=lecun_normal(seed=42))(x)\n",
    "x = Activation(selu)(x)\n",
    "x = AlphaDropout(0.1)(x)\n",
    "x = Dense(256, kernel_initializer=lecun_normal(seed=42))(x)\n",
    "x = Activation(selu)(x)\n",
    "x = AlphaDropout(0.1)(x)\n",
    "x = Dense(256, kernel_initializer=lecun_normal(seed=42))(x)\n",
    "x = Activation(selu)(x)\n",
    "x = AlphaDropout(0.1)(x)\n",
    "x = Dense(128, kernel_initializer=lecun_normal(seed=42))(x)\n",
    "x = Activation(selu)(x)\n",
    "x = AlphaDropout(0.1)(x)\n",
    "x = Dense(128, kernel_initializer=lecun_normal(seed=42))(x)\n",
    "x = Activation(selu)(x)\n",
    "x = AlphaDropout(0.1)(x)\n",
    "x = Dense(64, kernel_initializer=lecun_normal(seed=42))(x)\n",
    "x = Activation(selu)(x)\n",
    "x = AlphaDropout(0.1)(x)\n",
    "x = Dense(64, kernel_initializer=lecun_normal(seed=42))(x)\n",
    "x = Activation(selu)(x)\n",
    "x = AlphaDropout(0.1)(x)\n",
    "outputs = Dense(2, activation='softmax')(x)\n",
    "model = Model(inputs, outputs)\n",
    "\n",
    "# TODO: Compile the model using a loss function and an optimizer.\n",
    "optim = SGD(decay=1e-3, momentum=0.9, nesterov=True)\n",
    "model.compile(optimizer=optim,\n",
    "              loss='categorical_crossentropy',\n",
    "              metrics=['accuracy'])"
   ]
  },
  {
   "cell_type": "markdown",
   "metadata": {},
   "source": [
    "## 5. Training the model\n",
    "Run the model here. Experiment with different batch_size, and number of epochs!"
   ]
  },
  {
   "cell_type": "code",
   "execution_count": 20,
   "metadata": {
    "scrolled": false
   },
   "outputs": [
    {
     "name": "stdout",
     "output_type": "stream",
     "text": [
      "Train on 20000 samples, validate on 5000 samples\n",
      "Epoch 1/150\n",
      "3s - loss: 0.7364 - acc: 0.5054 - val_loss: 0.7024 - val_acc: 0.4938\n",
      "Epoch 2/150\n",
      "1s - loss: 0.6964 - acc: 0.5077 - val_loss: 0.6749 - val_acc: 0.5118\n",
      "Epoch 3/150\n",
      "1s - loss: 0.6901 - acc: 0.5353 - val_loss: 0.5821 - val_acc: 0.6838\n",
      "Epoch 4/150\n",
      "1s - loss: 0.5763 - acc: 0.6922 - val_loss: 0.6498 - val_acc: 0.8284\n",
      "Epoch 5/150\n",
      "1s - loss: 0.4477 - acc: 0.8010 - val_loss: 0.6262 - val_acc: 0.8504\n",
      "Epoch 6/150\n",
      "1s - loss: 0.4039 - acc: 0.8291 - val_loss: 0.5673 - val_acc: 0.8628\n",
      "Epoch 7/150\n",
      "2s - loss: 0.3762 - acc: 0.8438 - val_loss: 0.6357 - val_acc: 0.8676\n",
      "Epoch 8/150\n",
      "2s - loss: 0.3632 - acc: 0.8536 - val_loss: 0.5730 - val_acc: 0.8708\n",
      "Epoch 9/150\n",
      "1s - loss: 0.3464 - acc: 0.8591 - val_loss: 0.6065 - val_acc: 0.8740\n",
      "Epoch 10/150\n",
      "2s - loss: 0.3396 - acc: 0.8631 - val_loss: 0.5634 - val_acc: 0.8742\n",
      "Epoch 11/150\n",
      "2s - loss: 0.3267 - acc: 0.8666 - val_loss: 0.5245 - val_acc: 0.8762\n",
      "Epoch 12/150\n",
      "1s - loss: 0.3173 - acc: 0.8724 - val_loss: 0.5259 - val_acc: 0.8760\n",
      "Epoch 13/150\n",
      "1s - loss: 0.3132 - acc: 0.8745 - val_loss: 0.4594 - val_acc: 0.8778\n",
      "Epoch 14/150\n",
      "1s - loss: 0.2993 - acc: 0.8805 - val_loss: 0.4896 - val_acc: 0.8758\n",
      "Epoch 15/150\n",
      "1s - loss: 0.2976 - acc: 0.8776 - val_loss: 0.4550 - val_acc: 0.8792\n",
      "Epoch 16/150\n",
      "2s - loss: 0.2955 - acc: 0.8809 - val_loss: 0.4860 - val_acc: 0.8732\n",
      "Epoch 17/150\n",
      "1s - loss: 0.2936 - acc: 0.8823 - val_loss: 0.5035 - val_acc: 0.8782\n",
      "Epoch 18/150\n",
      "1s - loss: 0.2877 - acc: 0.8836 - val_loss: 0.4601 - val_acc: 0.8762\n",
      "Epoch 19/150\n",
      "1s - loss: 0.2857 - acc: 0.8846 - val_loss: 0.5085 - val_acc: 0.8810\n"
     ]
    },
    {
     "data": {
      "text/plain": [
       "<keras.callbacks.History at 0x7f133816fa20>"
      ]
     },
     "execution_count": 20,
     "metadata": {},
     "output_type": "execute_result"
    }
   ],
   "source": [
    "# TODO: Run the model. Feel free to experiment with different batch sizes and number of epochs.\n",
    "early = EarlyStopping(patience=3)\n",
    "model.fit(x_train, y_train, batch_size=128, epochs=150, validation_split=.2, verbose = 2, callbacks=[early])"
   ]
  },
  {
   "cell_type": "markdown",
   "metadata": {},
   "source": [
    "## 6. Evaluating the model\n",
    "This will give you the accuracy of the model, as evaluated on the testing set. Can you get something over 85%?"
   ]
  },
  {
   "cell_type": "code",
   "execution_count": 21,
   "metadata": {},
   "outputs": [
    {
     "name": "stdout",
     "output_type": "stream",
     "text": [
      "Accuracy:  0.876\n"
     ]
    }
   ],
   "source": [
    "score = model.evaluate(x_test, y_test, verbose=0)\n",
    "print(\"Accuracy: \", score[1])"
   ]
  }
 ],
 "metadata": {
  "kernelspec": {
   "display_name": "Python [conda env:aind]",
   "language": "python",
   "name": "conda-env-aind-py"
  },
  "language_info": {
   "codemirror_mode": {
    "name": "ipython",
    "version": 3
   },
   "file_extension": ".py",
   "mimetype": "text/x-python",
   "name": "python",
   "nbconvert_exporter": "python",
   "pygments_lexer": "ipython3",
   "version": "3.6.0"
  }
 },
 "nbformat": 4,
 "nbformat_minor": 2
}
